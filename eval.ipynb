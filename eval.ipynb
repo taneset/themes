{
 "cells": [
  {
   "cell_type": "markdown",
   "metadata": {},
   "source": [
    "Import necessary libraries"
   ]
  },
  {
   "cell_type": "code",
   "execution_count": null,
   "metadata": {},
   "outputs": [],
   "source": [
    "from sklearn.metrics.cluster import adjusted_rand_score\n",
    "from sklearn.metrics import fowlkes_mallows_score\n",
    "from sklearn.cluster import KMeans\n",
    "from functions import create_embeddings, calculate_similarity_matrix, hierarchical_clustering, calculate_silhouette_scores, find_optimal_cluster, cluster_texts\n",
    "from gpt_generated_test_sets import word_list_one, gold_clusters_one,word_list_two,gold_clusters_two\n",
    "import openai\n",
    "from matplotlib import pyplot as plt\n",
    "import pandas as pd\n"
   ]
  },
  {
   "cell_type": "markdown",
   "metadata": {},
   "source": [
    "Define engine and key"
   ]
  },
  {
   "cell_type": "code",
   "execution_count": null,
   "metadata": {},
   "outputs": [],
   "source": [
    "word_list=word_list_two\n",
    "gold_cluster=gold_clusters_two\n",
    "engine = \"text-embedding-ada-002\"\n",
    "openai.api_key = \"key\""
   ]
  },
  {
   "cell_type": "markdown",
   "metadata": {},
   "source": [
    "Create word embeddings"
   ]
  },
  {
   "cell_type": "code",
   "execution_count": null,
   "metadata": {},
   "outputs": [],
   "source": [
    "embeddings = create_embeddings(word_list, engine)"
   ]
  },
  {
   "cell_type": "markdown",
   "metadata": {},
   "source": [
    "Calculate silhouette scores to find the optimal number of clusters"
   ]
  },
  {
   "cell_type": "code",
   "execution_count": null,
   "metadata": {},
   "outputs": [],
   "source": [
    "cluster_results_km = calculate_silhouette_scores(embeddings)\n",
    "num_cluster = find_optimal_cluster(cluster_results_km)\n"
   ]
  },
  {
   "cell_type": "markdown",
   "metadata": {},
   "source": [
    "Print the optimal number of clusters and the corresponding results"
   ]
  },
  {
   "cell_type": "code",
   "execution_count": null,
   "metadata": {},
   "outputs": [],
   "source": [
    "print(\"Optimal number of clusters:\", num_cluster)\n",
    "print(cluster_results_km.loc[cluster_results_km['k'] == num_cluster])"
   ]
  },
  {
   "cell_type": "markdown",
   "metadata": {},
   "source": [
    "Plot silhouette scores vs cluster number"
   ]
  },
  {
   "cell_type": "code",
   "execution_count": null,
   "metadata": {},
   "outputs": [],
   "source": [
    "cluster_results_km = cluster_results_km.set_index('k')\n",
    "cluster_results_km.plot(title='Silhouette scores vs cluster number', grid=True, figsize=(15, 5))\n"
   ]
  },
  {
   "cell_type": "markdown",
   "metadata": {},
   "source": [
    "Grid search K-Menas clustering w.r.t adjusted_rand_score, fowlkes_mallows_score"
   ]
  },
  {
   "cell_type": "code",
   "execution_count": null,
   "metadata": {},
   "outputs": [],
   "source": [
    "# Initialize an empty DataFrame\n",
    "data = {'n_clusters': [], 'init': [], 'ARI': [], 'Fowlkes-Mallows': []}\n",
    "results_df = pd.DataFrame(data)\n",
    "\n",
    "\n",
    "# Define the range of hyperparameters for K-means\n",
    "n_clusters_range = range(1,len(embeddings))  # Number of clusters to test\n",
    "init_methods = ['k-means++', 'random']  # Initialization methods\n",
    "\n",
    "for n_clusters in n_clusters_range:\n",
    "    for init_method in init_methods:\n",
    "        # Perform K-means clustering\n",
    "        kmeans = KMeans(n_clusters=n_clusters, init=init_method, random_state=0)\n",
    "        kmeans_clusters = kmeans.fit_predict(embeddings)\n",
    "\n",
    "        # Calculate Adjusted Rand Score and Fowlkes-Mallows Score\n",
    "        kmeans_ari = adjusted_rand_score(gold_cluster, kmeans_clusters)\n",
    "        kmeans_fowlkes_mallows = fowlkes_mallows_score(gold_cluster, kmeans_clusters)\n",
    "\n",
    "        # Append the results to the DataFrame\n",
    "        results_df = results_df.append({'n_clusters': n_clusters, 'init': init_method,\n",
    "                                        'ARI': kmeans_ari, 'Fowlkes-Mallows': kmeans_fowlkes_mallows},\n",
    "                                        ignore_index=True)\n",
    "\n",
    "# Find the row with the maximum ARI score and the row with the maximum Fowlkes-Mallows score\n",
    "max_ari_row_k = results_df.loc[results_df['ARI'].idxmax()]\n",
    "max_fowlkes_mallows_row_k = results_df.loc[results_df['Fowlkes-Mallows'].idxmax()]\n",
    "\n",
    "# Print the rows with the maximum scores\n",
    "print(\"Maximum ARI:\")\n",
    "print(\"Number of Clusters:\", max_ari_row_k['n_clusters'])\n",
    "print(\"Initialization Method:\", max_ari_row_k['init'])\n",
    "print(\"ARI:\", max_ari_row_k['ARI'])\n",
    "print(\"Fowlkes-Mallows:\", max_ari_row_k['Fowlkes-Mallows'])\n",
    "\n",
    "print(\"\\nMaximum Fowlkes-Mallows:\")\n",
    "print(\"Number of Clusters:\", max_fowlkes_mallows_row_k['n_clusters'])\n",
    "print(\"Initialization Method:\", max_fowlkes_mallows_row_k['init'])\n",
    "print(\"ARI:\", max_fowlkes_mallows_row_k['ARI'])\n",
    "print(\"Fowlkes-Mallows:\", max_fowlkes_mallows_row_k['Fowlkes-Mallows'])\n"
   ]
  },
  {
   "cell_type": "markdown",
   "metadata": {},
   "source": [
    "Final Parameters for K-Means"
   ]
  },
  {
   "cell_type": "code",
   "execution_count": null,
   "metadata": {},
   "outputs": [],
   "source": [
    "final_ari_n_clusters = int(max_ari_row_k['n_clusters'])\n",
    "final_ari_init = max_ari_row_k['init']\n",
    "\n",
    "final_fowlkes_mallows_n_clusters = int(max_fowlkes_mallows_row_k['n_clusters'])\n",
    "final_fowlkes_mallows_init = max_fowlkes_mallows_row_k['init']"
   ]
  },
  {
   "cell_type": "markdown",
   "metadata": {},
   "source": [
    "Apply K-Means clustering"
   ]
  },
  {
   "cell_type": "code",
   "execution_count": null,
   "metadata": {},
   "outputs": [],
   "source": [
    "km_model = KMeans(n_clusters=final_ari_n_clusters, init=final_ari_init, random_state=42)\n",
    "kmeans_clusters = km_model.fit_predict(embeddings)"
   ]
  },
  {
   "cell_type": "markdown",
   "metadata": {},
   "source": [
    "Clustered groups  using K-Means"
   ]
  },
  {
   "cell_type": "code",
   "execution_count": null,
   "metadata": {},
   "outputs": [],
   "source": [
    "\n",
    "cluster_texts(word_list, kmeans_clusters)"
   ]
  },
  {
   "cell_type": "markdown",
   "metadata": {},
   "source": [
    "Calculate similarity matrix for hierarchical clustering\n"
   ]
  },
  {
   "cell_type": "code",
   "execution_count": null,
   "metadata": {},
   "outputs": [],
   "source": [
    "similarity_matrix = calculate_similarity_matrix(embeddings)"
   ]
  },
  {
   "cell_type": "markdown",
   "metadata": {},
   "source": [
    "Finding optimal linkage method and optimal number for k  adjusted_rand_score, fowlkes_mallows_score"
   ]
  },
  {
   "cell_type": "code",
   "execution_count": null,
   "metadata": {},
   "outputs": [],
   "source": [
    "# Initialize an empty DataFrame\n",
    "data = {'Linkage Method': [], 'Threshold': [], 'Cluster Numbers': [], 'ARI': [], 'Fowlkes-Mallows': []}\n",
    "results_df = pd.DataFrame(data)\n",
    "\n",
    "\n",
    "\n",
    "# Define the range of linkage methods and thresholds\n",
    "linkage_methods = ['ward', 'centroid', 'weighted', 'single', 'median']\n",
    "threshold_range = [i/100 for i in range(0, 51, 5)]  # Thresholds from 0.1 to 0.5 in steps of 0.05\n",
    "\n",
    "for linkage_method in linkage_methods:\n",
    "    for threshold in threshold_range:\n",
    "        # Perform hierarchical clustering\n",
    "        hierarchical_clusters = hierarchical_clustering(similarity_matrix, linkage_method, threshold)\n",
    "\n",
    "        # Calculate the number of clusters\n",
    "        num_clusters = len(set(hierarchical_clusters))\n",
    "\n",
    "        # Calculate Adjusted Rand Score and Fowlkes-Mallows Score\n",
    "        hierarchical_ari = adjusted_rand_score(gold_cluster, hierarchical_clusters)\n",
    "        hierarchical_fowlkes_mallows = fowlkes_mallows_score(gold_cluster, hierarchical_clusters)\n",
    "\n",
    "        # Append the results to the DataFrame\n",
    "        results_df = results_df.append({'Linkage Method': linkage_method, 'Threshold': threshold,\n",
    "                                        'Cluster Numbers': num_clusters, 'ARI': hierarchical_ari,\n",
    "                                        'Fowlkes-Mallows': hierarchical_fowlkes_mallows},\n",
    "                                        ignore_index=True)\n",
    "\n",
    "# Find the row with the maximum ARI score and the row with the maximum Fowlkes-Mallows score\n",
    "max_ari_row = results_df.loc[results_df['ARI'].idxmax()]\n",
    "max_fowlkes_mallows_row = results_df.loc[results_df['Fowlkes-Mallows'].idxmax()]\n",
    "\n",
    "# Print the rows with the maximum scores\n",
    "print(\"Row with Maximum ARI:\")\n",
    "print(max_ari_row)\n",
    "\n",
    "print(\"\\nRow with Maximum Fowlkes-Mallows:\")\n",
    "print(max_fowlkes_mallows_row)\n"
   ]
  },
  {
   "cell_type": "markdown",
   "metadata": {},
   "source": [
    "Assign the cluster number and linkage method according to the outcome"
   ]
  },
  {
   "cell_type": "code",
   "execution_count": null,
   "metadata": {},
   "outputs": [],
   "source": [
    "max_ari_linkage = max_ari_row['Linkage Method']\n",
    "max_ari_threshold = max_ari_row['Threshold']\n",
    "\n",
    "\n",
    "max_fowlkes_mallows_linkage = max_fowlkes_mallows_row['Linkage Method']\n",
    "max_fowlkes_mallows_threshold = max_fowlkes_mallows_row['Threshold']\n"
   ]
  },
  {
   "cell_type": "markdown",
   "metadata": {},
   "source": [
    "Perform hierarchical clustering"
   ]
  },
  {
   "cell_type": "code",
   "execution_count": null,
   "metadata": {},
   "outputs": [],
   "source": [
    "hierarchical_clusters = hierarchical_clustering(similarity_matrix, max_ari_linkage, max_ari_threshold)"
   ]
  },
  {
   "cell_type": "markdown",
   "metadata": {},
   "source": [
    "Cluster words using hierarchical clustering"
   ]
  },
  {
   "cell_type": "code",
   "execution_count": null,
   "metadata": {},
   "outputs": [],
   "source": [
    "cluster_texts(word_list, hierarchical_clusters)"
   ]
  },
  {
   "cell_type": "markdown",
   "metadata": {},
   "source": [
    "Evaluate final clustering methods  using Adjusted Rand Score  and  Fowlkes-Mallows Score"
   ]
  },
  {
   "cell_type": "code",
   "execution_count": null,
   "metadata": {},
   "outputs": [],
   "source": [
    "kmeans_ari = adjusted_rand_score(gold_cluster, kmeans_clusters)\n",
    "hierarchical_ari = adjusted_rand_score(gold_cluster, hierarchical_clusters)\n",
    "\n",
    "\n",
    "kmeans_fowlkes_mallows = fowlkes_mallows_score(gold_cluster, kmeans_clusters)\n",
    "hierarchical_fowlkes_mallows = fowlkes_mallows_score(gold_cluster, hierarchical_clusters)\n",
    "\n",
    "\n",
    "print(\"K-Means Adjusted Rand Score:\", kmeans_ari)\n",
    "print(\"Hierarchical Adjusted Rand Score:\", hierarchical_ari)\n",
    "print(\"K-Means Fowlkes-Mallows Score:\", kmeans_fowlkes_mallows)\n",
    "print(\"Hierarchical Fowlkes-Mallows Score:\", hierarchical_fowlkes_mallows)"
   ]
  },
  {
   "cell_type": "markdown",
   "metadata": {},
   "source": [
    "For ARI and FMI to be applicable, it is necessary that the numbers of clusters in the true labels (gold clusters) and the predicted clusters are equal. These metrics rely on the comparison of pairs of data points in terms of their clustering assignment. If the numbers of clusters in the true and predicted clusters are not equal, these metrics would not be directly applicable."
   ]
  },
  {
   "cell_type": "markdown",
   "metadata": {},
   "source": [
    "Adjusted Mutual Information between two clusterings.\n",
    "\n",
    "Adjusted Mutual Information (AMI) is an adjustment of the Mutual Information (MI) score to account for chance. It accounts for the fact that the MI is generally higher for two clusterings with a larger number of clusters, regardless of whether there is actually more information shared. For two clusterings \n",
    " and \n",
    ", the AMI is given as:\n",
    "\n",
    "AMI(U, V) = [MI(U, V) - E(MI(U, V))] / [avg(H(U), H(V)) - E(MI(U, V))]\n",
    "This metric is independent of the absolute values of the labels: a permutation of the class or cluster label values won’t change the score value in any way."
   ]
  },
  {
   "cell_type": "code",
   "execution_count": null,
   "metadata": {},
   "outputs": [],
   "source": [
    "from sklearn.metrics import adjusted_mutual_info_score\n",
    "kmeans_ami = adjusted_mutual_info_score(gold_cluster, kmeans_clusters)\n",
    "hierarchical_ami = adjusted_mutual_info_score(gold_cluster, hierarchical_clusters)\n",
    "\n",
    "print(\"K-Means Adjusted Mutual Information Score:\", kmeans_ami)\n",
    "print(\"Hierarchical Adjusted Mutual Information Score:\", hierarchical_ami)"
   ]
  },
  {
   "cell_type": "markdown",
   "metadata": {},
   "source": []
  }
 ],
 "metadata": {
  "kernelspec": {
   "display_name": "Python 3",
   "language": "python",
   "name": "python3"
  },
  "language_info": {
   "codemirror_mode": {
    "name": "ipython",
    "version": 3
   },
   "file_extension": ".py",
   "mimetype": "text/x-python",
   "name": "python",
   "nbconvert_exporter": "python",
   "pygments_lexer": "ipython3",
   "version": "3.10.11"
  }
 },
 "nbformat": 4,
 "nbformat_minor": 2
}
